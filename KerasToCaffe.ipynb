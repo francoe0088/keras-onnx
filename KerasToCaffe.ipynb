{
 "cells": [
  {
   "cell_type": "code",
   "execution_count": 1,
   "metadata": {},
   "outputs": [
    {
     "name": "stderr",
     "output_type": "stream",
     "text": [
      "Using TensorFlow backend.\n"
     ]
    }
   ],
   "source": [
    "import keras2onnx\n",
    "# keras2onnx.convert_keras(model, name=None, doc_string='', target_opset=None, channel_first_inputs=None):\n",
    "#     # type: (keras.Model, str, str, int, []) -> onnx.ModelProto\n",
    "#     \"\"\"\n",
    "#     :param model: keras model\n",
    "#     :param name: the converted onnx model internal name\n",
    "#     :param doc_string:\n",
    "#     :param target_opset:\n",
    "#     :param channel_first_inputs: A list of channel first input.\n",
    "#     :return:\n",
    "#     \"\"\""
   ]
  },
  {
   "cell_type": "code",
   "execution_count": 6,
   "metadata": {},
   "outputs": [],
   "source": [
    "import keras\n",
    "import PIL\n",
    "from PIL import Image\n",
    "import PIL.Image\n",
    "from IPython.display import display\n",
    "from PIL import Image\n",
    "import numpy as np\n",
    "from keras.preprocessing import image\n",
    "from keras.applications.resnet50 import preprocess_input\n",
    "import keras2onnx\n",
    "import onnxruntime\n",
    "\n",
    "# image preprocessing\n",
    "img_path = 'elephant.jpg'   # make sure the image is in img_path\n",
    "img_size = 224\n",
    "img = image.load_img(img_path, target_size=(img_size, img_size))\n",
    "x = image.img_to_array(img)\n",
    "x = np.expand_dims(x, axis=0)\n",
    "x = preprocess_input(x)\n",
    "\n",
    "# load keras model\n",
    "from keras.applications.resnet50 import ResNet50\n",
    "model = ResNet50(include_top=True, weights='imagenet')\n",
    "\n",
    "# convert to onnx model\n",
    "onnx_model = keras2onnx.convert_keras(model, model.name)\n",
    "\n",
    "# runtime prediction\n",
    "content = onnx_model.SerializeToString()\n",
    "sess = onnxruntime.InferenceSession(content)\n",
    "x = x if isinstance(x, list) else [x]\n",
    "feed = dict([(input.name, x[n]) for n, input in enumerate(sess.get_inputs())])\n",
    "pred_onnx = sess.run(None, feed)\n"
   ]
  },
  {
   "cell_type": "code",
   "execution_count": 7,
   "metadata": {},
   "outputs": [],
   "source": [
    "import onnx\n",
    "temp_model_file = 'model.onnx'\n",
    "onnx.save_model(onnx_model, temp_model_file)\n",
    "sess = onnxruntime.InferenceSession(temp_model_file)\n"
   ]
  },
  {
   "cell_type": "code",
   "execution_count": null,
   "metadata": {},
   "outputs": [],
   "source": []
  }
 ],
 "metadata": {
  "kernelspec": {
   "display_name": "Python 3",
   "language": "python",
   "name": "python3"
  },
  "language_info": {
   "codemirror_mode": {
    "name": "ipython",
    "version": 3
   },
   "file_extension": ".py",
   "mimetype": "text/x-python",
   "name": "python",
   "nbconvert_exporter": "python",
   "pygments_lexer": "ipython3",
   "version": "3.7.3"
  }
 },
 "nbformat": 4,
 "nbformat_minor": 2
}
